{
 "cells": [
  {
   "cell_type": "markdown",
   "metadata": {},
   "source": [
    "# **Packages**"
   ]
  },
  {
   "cell_type": "code",
   "execution_count": null,
   "metadata": {},
   "outputs": [],
   "source": [
    "!pip install decord\n",
    "!pip install gluoncv\n",
    "!pip install mxnet"
   ]
  },
  {
   "cell_type": "code",
   "execution_count": 2,
   "metadata": {
    "execution": {
     "iopub.execute_input": "2022-09-06T12:25:31.229578Z",
     "iopub.status.busy": "2022-09-06T12:25:31.228516Z",
     "iopub.status.idle": "2022-09-06T12:25:31.237091Z",
     "shell.execute_reply": "2022-09-06T12:25:31.235747Z",
     "shell.execute_reply.started": "2022-09-06T12:25:31.229539Z"
    }
   },
   "outputs": [],
   "source": [
    "import matplotlib.pyplot as plt\n",
    "import numpy as np\n",
    "import mxnet as mx\n",
    "from mxnet import gluon, nd, image\n",
    "from mxnet.gluon.data.vision import transforms\n",
    "from gluoncv.data.transforms import video\n",
    "from gluoncv import utils\n",
    "from gluoncv.model_zoo import get_model\n",
    "from gluoncv.utils.filesystem import try_import_decord\n",
    "import ffmpeg\n",
    "import glob\n",
    "import cv2"
   ]
  },
  {
   "cell_type": "markdown",
   "metadata": {},
   "source": [
    "# **Utils**"
   ]
  },
  {
   "cell_type": "code",
   "execution_count": 3,
   "metadata": {
    "execution": {
     "iopub.execute_input": "2022-09-06T12:25:47.726238Z",
     "iopub.status.busy": "2022-09-06T12:25:47.725727Z",
     "iopub.status.idle": "2022-09-06T12:25:47.741355Z",
     "shell.execute_reply": "2022-09-06T12:25:47.740241Z",
     "shell.execute_reply.started": "2022-09-06T12:25:47.726199Z"
    }
   },
   "outputs": [],
   "source": [
    "def getInputID3Models(path):\n",
    "    decord = try_import_decord()\n",
    "    vr = decord.VideoReader(path)\n",
    "    frame_id_list = range(0,64,2)\n",
    "    video_data = vr.get_batch(frame_id_list).asnumpy()\n",
    "    clip_input = [video_data[vid, :, :, :] for vid, _ in enumerate(frame_id_list)]\n",
    "    transform_fn = video.VideoGroupValTransform(size=224, mean=[0.485, 0.456, 0.406], std=[0.229, 0.224, 0.225])\n",
    "    clip_input = transform_fn(clip_input)\n",
    "    clip_input = np.stack(clip_input, axis=0)\n",
    "    clip_input = clip_input.reshape((-1,) + (32, 3, 224, 224))\n",
    "    clip_input = np.transpose(clip_input, (0, 2, 1, 3, 4))\n",
    "    name_video = path.split('/')[-1].split('.')[0]\n",
    "    print(f'Video data {name_video} is downloaded and preprocessed.')\n",
    "    return clip_input\n",
    "\n",
    "\n",
    "def getInputSlowFastModels(path):\n",
    "    decord = try_import_decord()\n",
    "    vr = decord.VideoReader(path)\n",
    "    fast_frame_id_list = range(0, 64,2)\n",
    "    slow_frame_id_list = range(0, 64, 16)\n",
    "    frame_id_list = list(fast_frame_id_list) + list(slow_frame_id_list)\n",
    "    video_data = vr.get_batch(frame_id_list).asnumpy()\n",
    "    clip_input = [video_data[vid, :, :, :] for vid, _ in enumerate(frame_id_list)]\n",
    "    transform_fn = video.VideoGroupValTransform(size=224, mean=[0.485, 0.456, 0.406], std=[0.229, 0.224, 0.225])\n",
    "    clip_input = transform_fn(clip_input)\n",
    "    clip_input = np.stack(clip_input, axis=0)\n",
    "    clip_input = clip_input.reshape((-1,) + (36, 3, 224, 224))\n",
    "    clip_input = np.transpose(clip_input, (0, 2, 1, 3, 4))\n",
    "    name_video = path.split('/')[-1].split('.')[0]\n",
    "    print(f'Video data {name_video} is downloaded and preprocessed.')\n",
    "    return clip_input"
   ]
  },
  {
   "cell_type": "code",
   "execution_count": 4,
   "metadata": {
    "execution": {
     "iopub.execute_input": "2022-09-06T12:27:51.908448Z",
     "iopub.status.busy": "2022-09-06T12:27:51.907863Z",
     "iopub.status.idle": "2022-09-06T12:27:51.920215Z",
     "shell.execute_reply": "2022-09-06T12:27:51.918979Z",
     "shell.execute_reply.started": "2022-09-06T12:27:51.908408Z"
    }
   },
   "outputs": [
    {
     "name": "stdout",
     "output_type": "stream",
     "text": [
      "/kaggle/input/actio-clips/video_100_archery.mp4\n",
      "/kaggle/input/actio-clips/video_902_handshake.mp4\n",
      "/kaggle/input/actio-clips/video-kiss_or_hug.mp4\n",
      "['/kaggle/input/actio-clips/video_100_archery.mp4', '/kaggle/input/actio-clips/video_902_handshake.mp4', '/kaggle/input/actio-clips/video-kiss_or_hug.mp4']\n"
     ]
    }
   ],
   "source": [
    "import os\n",
    "lst = []\n",
    "for dirname, _, filenames in os.walk('/kaggle/input'):\n",
    "    for filename in filenames:\n",
    "        print(os.path.join(dirname, filename))\n",
    "        lst.append(os.path.join(dirname, filename))\n",
    "print(lst)"
   ]
  },
  {
   "cell_type": "markdown",
   "metadata": {},
   "source": [
    "# **Experiment 1: Model i3d_nl10_resnet50_v1_kinetics400**"
   ]
  },
  {
   "cell_type": "code",
   "execution_count": 5,
   "metadata": {
    "execution": {
     "iopub.execute_input": "2022-09-06T12:27:55.771421Z",
     "iopub.status.busy": "2022-09-06T12:27:55.770903Z",
     "iopub.status.idle": "2022-09-06T12:27:57.863077Z",
     "shell.execute_reply": "2022-09-06T12:27:57.860610Z",
     "shell.execute_reply.started": "2022-09-06T12:27:55.771377Z"
    }
   },
   "outputs": [
    {
     "name": "stdout",
     "output_type": "stream",
     "text": [
      "i3d_nl10_resnet50_v1_kinetics400 model is successfully loaded.\n"
     ]
    }
   ],
   "source": [
    "model_name = 'i3d_nl10_resnet50_v1_kinetics400'\n",
    "net = get_model(model_name, nclass=400, pretrained=True)\n",
    "print('%s model is successfully loaded.' % model_name)"
   ]
  },
  {
   "cell_type": "code",
   "execution_count": 6,
   "metadata": {
    "execution": {
     "iopub.execute_input": "2022-09-06T12:28:00.115129Z",
     "iopub.status.busy": "2022-09-06T12:28:00.114266Z",
     "iopub.status.idle": "2022-09-06T12:28:11.455023Z",
     "shell.execute_reply": "2022-09-06T12:28:11.452275Z",
     "shell.execute_reply.started": "2022-09-06T12:28:00.115068Z"
    }
   },
   "outputs": [
    {
     "name": "stdout",
     "output_type": "stream",
     "text": [
      "Video data video_100_archery is downloaded and preprocessed.\n",
      "The input video clip is classified to be\n",
      "\t[archery], with probability 1.000.\n",
      "\t[throwing_axe], with probability 0.000.\n",
      "\t[using_remote_controller_-not_gaming-], with probability 0.000.\n",
      "\t[golf_driving], with probability 0.000.\n",
      "\t[paragliding], with probability 0.000.\n",
      "\n",
      "Video data video_902_handshake is downloaded and preprocessed.\n",
      "The input video clip is classified to be\n",
      "\t[washing_hands], with probability 0.691.\n",
      "\t[shaking_hands], with probability 0.116.\n",
      "\t[drumming_fingers], with probability 0.039.\n",
      "\t[applying_cream], with probability 0.039.\n",
      "\t[tapping_pen], with probability 0.020.\n",
      "\n",
      "Video data video-kiss_or_hug is downloaded and preprocessed.\n",
      "The input video clip is classified to be\n",
      "\t[water_sliding], with probability 0.351.\n",
      "\t[parasailing], with probability 0.182.\n",
      "\t[flying_kite], with probability 0.106.\n",
      "\t[skydiving], with probability 0.054.\n",
      "\t[snorkeling], with probability 0.037.\n",
      "\n"
     ]
    }
   ],
   "source": [
    "for path in lst:\n",
    "    clip_input = getInputID3Models(path)\n",
    "    pred = net(nd.array(clip_input))\n",
    "    classes = net.classes\n",
    "    topK = 5\n",
    "    ind = nd.topk(pred, k=topK)[0].astype('int')\n",
    "    print('The input video clip is classified to be')\n",
    "    for i in range(topK):\n",
    "        print('\\t[%s], with probability %.3f.'%\n",
    "          (classes[ind[i].asscalar()], nd.softmax(pred)[0][ind[i]].asscalar()))\n",
    "    print('')"
   ]
  },
  {
   "cell_type": "markdown",
   "metadata": {},
   "source": [
    "**Observations:**\n",
    "This model classify correctly archery and almost classify correctly the handshaking video. However the hugging video is misclassified completely"
   ]
  },
  {
   "cell_type": "markdown",
   "metadata": {},
   "source": [
    "# **Experiment 2: Model i3d_nl10_resnet101_v1_kinetics400**"
   ]
  },
  {
   "cell_type": "code",
   "execution_count": 7,
   "metadata": {
    "execution": {
     "iopub.execute_input": "2022-09-06T12:28:17.622255Z",
     "iopub.status.busy": "2022-09-06T12:28:17.621750Z",
     "iopub.status.idle": "2022-09-06T12:28:20.386805Z",
     "shell.execute_reply": "2022-09-06T12:28:20.384914Z",
     "shell.execute_reply.started": "2022-09-06T12:28:17.622207Z"
    }
   },
   "outputs": [
    {
     "name": "stdout",
     "output_type": "stream",
     "text": [
      "i3d_nl10_resnet101_v1_kinetics400 model is successfully loaded.\n"
     ]
    }
   ],
   "source": [
    "model_name = 'i3d_nl10_resnet101_v1_kinetics400'\n",
    "net = get_model(model_name, nclass=400, pretrained=True)\n",
    "print('%s model is successfully loaded.' % model_name)"
   ]
  },
  {
   "cell_type": "code",
   "execution_count": 8,
   "metadata": {
    "execution": {
     "iopub.execute_input": "2022-09-06T12:28:20.389392Z",
     "iopub.status.busy": "2022-09-06T12:28:20.388741Z",
     "iopub.status.idle": "2022-09-06T12:28:29.056426Z",
     "shell.execute_reply": "2022-09-06T12:28:29.053300Z",
     "shell.execute_reply.started": "2022-09-06T12:28:20.389353Z"
    }
   },
   "outputs": [
    {
     "name": "stdout",
     "output_type": "stream",
     "text": [
      "Video data video_100_archery is downloaded and preprocessed.\n",
      "The input video clip is classified to be\n",
      "\t[archery], with probability 1.000.\n",
      "\t[throwing_axe], with probability 0.000.\n",
      "\t[javelin_throw], with probability 0.000.\n",
      "\t[riding_or_walking_with_horse], with probability 0.000.\n",
      "\t[golf_driving], with probability 0.000.\n",
      "\n",
      "Video data video_902_handshake is downloaded and preprocessed.\n",
      "The input video clip is classified to be\n",
      "\t[shaking_hands], with probability 0.379.\n",
      "\t[washing_hands], with probability 0.092.\n",
      "\t[rock_scissors_paper], with probability 0.057.\n",
      "\t[riding_camel], with probability 0.039.\n",
      "\t[arm_wrestling], with probability 0.035.\n",
      "\n",
      "Video data video-kiss_or_hug is downloaded and preprocessed.\n",
      "The input video clip is classified to be\n",
      "\t[water_sliding], with probability 0.452.\n",
      "\t[plastering], with probability 0.161.\n",
      "\t[flying_kite], with probability 0.035.\n",
      "\t[yoga], with probability 0.027.\n",
      "\t[diving_cliff], with probability 0.017.\n",
      "\n"
     ]
    }
   ],
   "source": [
    "for path in lst:\n",
    "    clip_input = getInputID3Models(path)\n",
    "    pred = net(nd.array(clip_input))\n",
    "    classes = net.classes\n",
    "    topK = 5\n",
    "    ind = nd.topk(pred, k=topK)[0].astype('int')\n",
    "    print('The input video clip is classified to be')\n",
    "    for i in range(topK):\n",
    "        print('\\t[%s], with probability %.3f.'%\n",
    "          (classes[ind[i].asscalar()], nd.softmax(pred)[0][ind[i]].asscalar()))\n",
    "    print('')"
   ]
  },
  {
   "cell_type": "markdown",
   "metadata": {},
   "source": [
    "**Observations:**\n",
    "This model classified correctly archery and shaking hands. However, the hugging video is misclassified as in experiment 1 with similar labels found"
   ]
  },
  {
   "cell_type": "markdown",
   "metadata": {},
   "source": [
    "# **Experiment 3: Model slowfast_4x16_resnet50_kinetics400**"
   ]
  },
  {
   "cell_type": "code",
   "execution_count": 11,
   "metadata": {
    "execution": {
     "iopub.execute_input": "2022-09-06T12:28:31.432906Z",
     "iopub.status.busy": "2022-09-06T12:28:31.432361Z",
     "iopub.status.idle": "2022-09-06T12:28:32.901905Z",
     "shell.execute_reply": "2022-09-06T12:28:32.900416Z",
     "shell.execute_reply.started": "2022-09-06T12:28:31.432864Z"
    }
   },
   "outputs": [
    {
     "name": "stdout",
     "output_type": "stream",
     "text": [
      "slowfast_4x16_resnet50_kinetics400 model is successfully loaded.\n"
     ]
    }
   ],
   "source": [
    "model_name = 'slowfast_4x16_resnet50_kinetics400'\n",
    "net = get_model(model_name, nclass=400, pretrained=True)\n",
    "print('%s model is successfully loaded.' % model_name)"
   ]
  },
  {
   "cell_type": "code",
   "execution_count": 12,
   "metadata": {
    "execution": {
     "iopub.execute_input": "2022-09-06T12:28:32.904536Z",
     "iopub.status.busy": "2022-09-06T12:28:32.903982Z",
     "iopub.status.idle": "2022-09-06T12:28:37.901134Z",
     "shell.execute_reply": "2022-09-06T12:28:37.899899Z",
     "shell.execute_reply.started": "2022-09-06T12:28:32.904494Z"
    }
   },
   "outputs": [
    {
     "name": "stdout",
     "output_type": "stream",
     "text": [
      "Video data video_100_archery is downloaded and preprocessed.\n",
      "The input video clip is classified to be\n",
      "\t[archery], with probability 1.000.\n",
      "\t[throwing_axe], with probability 0.000.\n",
      "\t[riding_or_walking_with_horse], with probability 0.000.\n",
      "\n",
      "Video data video_902_handshake is downloaded and preprocessed.\n",
      "The input video clip is classified to be\n",
      "\t[riding_camel], with probability 0.995.\n",
      "\t[flying_kite], with probability 0.001.\n",
      "\t[jogging], with probability 0.000.\n",
      "\n",
      "Video data video-kiss_or_hug is downloaded and preprocessed.\n",
      "The input video clip is classified to be\n",
      "\t[water_sliding], with probability 0.639.\n",
      "\t[bungee_jumping], with probability 0.041.\n",
      "\t[plastering], with probability 0.037.\n",
      "\n"
     ]
    }
   ],
   "source": [
    "for path in lst:\n",
    "    clip_input = getInputSlowFastModels(path)\n",
    "    pred = net(nd.array(clip_input))\n",
    "    classes = net.classes\n",
    "    topK = 3\n",
    "    ind = nd.topk(pred, k=topK)[0].astype('int')\n",
    "    print('The input video clip is classified to be')\n",
    "    for i in range(topK):\n",
    "        print('\\t[%s], with probability %.3f.'%\n",
    "          (classes[ind[i].asscalar()], nd.softmax(pred)[0][ind[i]].asscalar()))\n",
    "    print('')"
   ]
  },
  {
   "cell_type": "markdown",
   "metadata": {},
   "source": [
    "**Observations:**\n",
    "This model classified correctly archery but misclassify the two other videos"
   ]
  },
  {
   "cell_type": "markdown",
   "metadata": {},
   "source": [
    "# **CONCLUSION**"
   ]
  },
  {
   "cell_type": "markdown",
   "metadata": {},
   "source": [
    "Experiment 2 produced the best results. However, I couldn't classify correctly the hugging on any experiment"
   ]
  }
 ],
 "metadata": {
  "kernelspec": {
   "display_name": "Python 3",
   "language": "python",
   "name": "python3"
  },
  "language_info": {
   "codemirror_mode": {
    "name": "ipython",
    "version": 3
   },
   "file_extension": ".py",
   "mimetype": "text/x-python",
   "name": "python",
   "nbconvert_exporter": "python",
   "pygments_lexer": "ipython3",
   "version": "3.8.5"
  }
 },
 "nbformat": 4,
 "nbformat_minor": 4
}
